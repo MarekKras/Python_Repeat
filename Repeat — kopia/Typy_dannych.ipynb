{
 "cells": [
  {
   "cell_type": "code",
   "execution_count": 3,
   "id": "16414606",
   "metadata": {},
   "outputs": [
    {
     "name": "stdout",
     "output_type": "stream",
     "text": [
      "Python is awesome\n"
     ]
    }
   ],
   "source": [
    "x = \"awesome\"\n",
    "y = \" \"\n",
    "print(\"Python is\" +y+ x)"
   ]
  },
  {
   "cell_type": "code",
   "execution_count": 2,
   "id": "476a8dd4",
   "metadata": {},
   "outputs": [
    {
     "name": "stdout",
     "output_type": "stream",
     "text": [
      "Python is awesome\n"
     ]
    }
   ],
   "source": [
    "x = \"Python is \"\n",
    "y = \"awesome\"\n",
    "z =  x + y\n",
    "print(z)"
   ]
  },
  {
   "cell_type": "code",
   "execution_count": 4,
   "id": "efe11815",
   "metadata": {
    "collapsed": true
   },
   "outputs": [
    {
     "ename": "TypeError",
     "evalue": "unsupported operand type(s) for +: 'int' and 'str'",
     "output_type": "error",
     "traceback": [
      "\u001b[1;31m---------------------------------------------------------------------------\u001b[0m",
      "\u001b[1;31mTypeError\u001b[0m                                 Traceback (most recent call last)",
      "\u001b[1;32m<ipython-input-4-00c66e4310ff>\u001b[0m in \u001b[0;36m<module>\u001b[1;34m\u001b[0m\n\u001b[0;32m      1\u001b[0m \u001b[0mx\u001b[0m \u001b[1;33m=\u001b[0m \u001b[1;36m5\u001b[0m\u001b[1;33m\u001b[0m\u001b[1;33m\u001b[0m\u001b[0m\n\u001b[0;32m      2\u001b[0m \u001b[0my\u001b[0m \u001b[1;33m=\u001b[0m \u001b[1;34m\"John\"\u001b[0m\u001b[1;33m\u001b[0m\u001b[1;33m\u001b[0m\u001b[0m\n\u001b[1;32m----> 3\u001b[1;33m \u001b[0mprint\u001b[0m\u001b[1;33m(\u001b[0m\u001b[0mx\u001b[0m \u001b[1;33m+\u001b[0m \u001b[0my\u001b[0m\u001b[1;33m)\u001b[0m\u001b[1;33m\u001b[0m\u001b[1;33m\u001b[0m\u001b[0m\n\u001b[0m",
      "\u001b[1;31mTypeError\u001b[0m: unsupported operand type(s) for +: 'int' and 'str'"
     ]
    }
   ],
   "source": [
    "# error nie można połączyć stringa i int razem\n",
    "x = 5\n",
    "y = \"John\"\n",
    "print(x + y)"
   ]
  },
  {
   "cell_type": "code",
   "execution_count": 5,
   "id": "6ca7a586",
   "metadata": {},
   "outputs": [
    {
     "name": "stdout",
     "output_type": "stream",
     "text": [
      "Python is awesome\n"
     ]
    }
   ],
   "source": [
    "x = \"awesome\"\n",
    "\n",
    "def myfunc():\n",
    "    print(\"Python is \" + x)\n",
    "myfunc()"
   ]
  },
  {
   "cell_type": "code",
   "execution_count": 8,
   "id": "28aa1040",
   "metadata": {},
   "outputs": [
    {
     "name": "stdout",
     "output_type": "stream",
     "text": [
      "Python is fantastic\n",
      "Python is awesome\n"
     ]
    }
   ],
   "source": [
    "x = \"awesome\" # zmienna globalna po za wszystkim się odpali\n",
    "\n",
    "def myfunc():\n",
    "    x = \"fantastic\" # zmiennna lokalna odpali się tylko w środku funckji\n",
    "    print(\"Python is \" + x)\n",
    "myfunc()\n",
    "print(\"Python is \" + x)"
   ]
  },
  {
   "cell_type": "code",
   "execution_count": 18,
   "id": "b51d6acd",
   "metadata": {},
   "outputs": [
    {
     "name": "stdout",
     "output_type": "stream",
     "text": [
      "1j\n",
      "<class 'complex'>\n",
      "<class 'range'>\n",
      "<class 'tuple'>\n",
      "<class 'range'>\n",
      "range(0, 6)\n",
      "<class 'dict'>\n",
      "{'name': 'John', 'age': 35}\n",
      "<class 'set'>\n",
      "{'cherry', 'apple', 'banana'}\n",
      "<class 'frozenset'>\n",
      "frozenset({'cherry', 'apple', 'banana'})\n",
      "<class 'bytearray'>\n",
      "bytearray(b'\\x00\\x00\\x00\\x00\\x00')\n"
     ]
    }
   ],
   "source": [
    "#complex\n",
    "x = 1j\n",
    "# lista\n",
    "y = [\"apple\", \"banana\", \"cherry\"]\n",
    "# krotka zbiór elementów\n",
    "z = (\"apple\", \"banana\", \"cherry\")\n",
    "# range zakres od 0 do 6 \n",
    "y = range(6)\n",
    "# dictionary\n",
    "e = {\"name\":\"John\",\"age\":35}\n",
    "# set - struktura dannych\n",
    "b = {\"apple\", \"banana\", \"cherry\"}\n",
    "#Funkcja frozenset () zwraca niezmienny obiekt frozenset zainicjowany elementami z podanej iterowalnej.\n",
    "#Zbiór zamrożony to po prostu niezmienna wersja obiektu zestawu w języku Python.\n",
    "#Podczas gdy elementy zestawu można modyfikować w dowolnym momencie, \n",
    "#elementy zamrożonego zestawu pozostają takie same po utworzeniu.\n",
    "c = frozenset({\"apple\", \"banana\", \"cherry\"})\n",
    "l = bytearray(5)\n",
    "\n",
    "\n",
    "print(x)\n",
    "print(type(x))\n",
    "print(type(y))\n",
    "print(type(z))\n",
    "print(type(y))\n",
    "print(y)\n",
    "print(type(e))\n",
    "print(e)\n",
    "print(type(b))\n",
    "print(b)\n",
    "print(type(c))\n",
    "print(c)\n",
    "print(type(l))\n",
    "print(l)"
   ]
  },
  {
   "cell_type": "code",
   "execution_count": null,
   "id": "de806e37",
   "metadata": {},
   "outputs": [],
   "source": []
  }
 ],
 "metadata": {
  "kernelspec": {
   "display_name": "Python 3",
   "language": "python",
   "name": "python3"
  },
  "language_info": {
   "codemirror_mode": {
    "name": "ipython",
    "version": 3
   },
   "file_extension": ".py",
   "mimetype": "text/x-python",
   "name": "python",
   "nbconvert_exporter": "python",
   "pygments_lexer": "ipython3",
   "version": "3.8.8"
  }
 },
 "nbformat": 4,
 "nbformat_minor": 5
}
